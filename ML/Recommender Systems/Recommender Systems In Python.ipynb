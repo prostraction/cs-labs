{
 "cells": [
  {
   "cell_type": "markdown",
   "metadata": {},
   "source": [
    "# Разработка рекомендательной системы на Python"
   ]
  },
  {
   "cell_type": "markdown",
   "metadata": {},
   "source": [
    "Можно выделить два основных типа рекомендательных систем."
   ]
  },
  {
   "cell_type": "markdown",
   "metadata": {},
   "source": [
    "**Content-based**\n",
    "\n",
    "* Пользователю рекомендуются фильмы, похожие на те, которые он уже посмотрел.\n",
    "* Похожести оцениваются по признакам содержимого объектов.\n",
    "* Сильная зависимость от предметной области, полезность рекомендаций ограничена.\n",
    "\n",
    "Коллаборативная фильтрация (**Collaborative Filtering**)\n",
    "\n",
    "* Для рекомендации используется история оценок как самого пользователя, так и других пользователей.\n",
    "* Более универсальный подход, часто дает лучший результат.\n",
    "* Есть свои проблемы (например, холодный старт)."
   ]
  },
  {
   "cell_type": "markdown",
   "metadata": {},
   "source": [
    "## Датасет"
   ]
  },
  {
   "cell_type": "markdown",
   "metadata": {},
   "source": [
    "В данной работе используется MovieLens Dataset (Small). Посмотреть информацию или скачать датасет можно [отсюда](https://grouplens.org/datasets/movielens/).\n",
    "Для дальнейшей работы применяется файл `ratings.csv`"
   ]
  },
  {
   "cell_type": "code",
   "execution_count": 1,
   "metadata": {},
   "outputs": [],
   "source": [
    "import numpy as np\n",
    "import pandas as pd"
   ]
  },
  {
   "cell_type": "code",
   "execution_count": 2,
   "metadata": {},
   "outputs": [],
   "source": [
    "# загружаем датасет\n",
    "df = pd.read_csv('ml-latest-small/ratings.csv')"
   ]
  },
  {
   "cell_type": "code",
   "execution_count": 3,
   "metadata": {},
   "outputs": [
    {
     "data": {
      "text/html": [
       "<div>\n",
       "<style scoped>\n",
       "    .dataframe tbody tr th:only-of-type {\n",
       "        vertical-align: middle;\n",
       "    }\n",
       "\n",
       "    .dataframe tbody tr th {\n",
       "        vertical-align: top;\n",
       "    }\n",
       "\n",
       "    .dataframe thead th {\n",
       "        text-align: right;\n",
       "    }\n",
       "</style>\n",
       "<table border=\"1\" class=\"dataframe\">\n",
       "  <thead>\n",
       "    <tr style=\"text-align: right;\">\n",
       "      <th></th>\n",
       "      <th>userId</th>\n",
       "      <th>movieId</th>\n",
       "      <th>rating</th>\n",
       "      <th>timestamp</th>\n",
       "    </tr>\n",
       "  </thead>\n",
       "  <tbody>\n",
       "    <tr>\n",
       "      <th>0</th>\n",
       "      <td>1</td>\n",
       "      <td>1</td>\n",
       "      <td>4.0</td>\n",
       "      <td>964982703</td>\n",
       "    </tr>\n",
       "    <tr>\n",
       "      <th>1</th>\n",
       "      <td>1</td>\n",
       "      <td>3</td>\n",
       "      <td>4.0</td>\n",
       "      <td>964981247</td>\n",
       "    </tr>\n",
       "    <tr>\n",
       "      <th>2</th>\n",
       "      <td>1</td>\n",
       "      <td>6</td>\n",
       "      <td>4.0</td>\n",
       "      <td>964982224</td>\n",
       "    </tr>\n",
       "    <tr>\n",
       "      <th>3</th>\n",
       "      <td>1</td>\n",
       "      <td>47</td>\n",
       "      <td>5.0</td>\n",
       "      <td>964983815</td>\n",
       "    </tr>\n",
       "    <tr>\n",
       "      <th>4</th>\n",
       "      <td>1</td>\n",
       "      <td>50</td>\n",
       "      <td>5.0</td>\n",
       "      <td>964982931</td>\n",
       "    </tr>\n",
       "  </tbody>\n",
       "</table>\n",
       "</div>"
      ],
      "text/plain": [
       "   userId  movieId  rating  timestamp\n",
       "0       1        1     4.0  964982703\n",
       "1       1        3     4.0  964981247\n",
       "2       1        6     4.0  964982224\n",
       "3       1       47     5.0  964983815\n",
       "4       1       50     5.0  964982931"
      ]
     },
     "execution_count": 3,
     "metadata": {},
     "output_type": "execute_result"
    }
   ],
   "source": [
    "# смотрим на структуру\n",
    "df.head()"
   ]
  },
  {
   "cell_type": "code",
   "execution_count": 4,
   "metadata": {},
   "outputs": [],
   "source": [
    "# выводим количество пользователей и фильмов\n",
    "n_users = df['userId'].unique().shape[0]\n",
    "n_items = df['movieId'].unique().shape[0]"
   ]
  },
  {
   "cell_type": "code",
   "execution_count": 5,
   "metadata": {},
   "outputs": [
    {
     "name": "stdout",
     "output_type": "stream",
     "text": [
      "Users: 610, Items: 9724\n"
     ]
    }
   ],
   "source": [
    "print('Users: {}, Items: {}'.format(n_users, n_items))"
   ]
  },
  {
   "cell_type": "code",
   "execution_count": 6,
   "metadata": {},
   "outputs": [],
   "source": [
    "# чтобы можно было удобно работать дальше, необходимо отмасштабировать \n",
    "# значения в колонке movieId (новые значения будут в диапазоне от 1 до\n",
    "# количества фильмов)\n",
    "input_list = df['movieId'].unique()\n",
    "\n",
    "def scale_movie_id(input_id):\n",
    "    return np.where(input_list == input_id)[0][0] + 1\n",
    "\n",
    "df['movieId'] = df['movieId'].apply(scale_movie_id)"
   ]
  },
  {
   "cell_type": "code",
   "execution_count": 7,
   "metadata": {},
   "outputs": [],
   "source": [
    "from sklearn import model_selection as cv\n",
    "\n",
    "# делим данные на тренировочный и тестовый наборы\n",
    "train_data, test_data = cv.train_test_split(df, test_size=0.20)"
   ]
  },
  {
   "cell_type": "markdown",
   "metadata": {},
   "source": [
    "## Memory-Based Collaborative Filtering"
   ]
  },
  {
   "cell_type": "markdown",
   "metadata": {},
   "source": [
    "Memory-Based Collaborative Filtering подходы можно разделить на две части: **user-item filtering** and **item-item filtering**."
   ]
  },
  {
   "cell_type": "markdown",
   "metadata": {},
   "source": [
    "В user-item filtering мы:\n",
    "\n",
    "1. Берём исходного пользователя\n",
    "2. Находим группу пользователей, которая максимально похожа на него (основываясь, например, оценках) и узнаём, какие фильмы понравились этой группе.\n",
    "3. Нашему исходному пользователю рекомендуем фильмы, которые нравятся найденной группе пользователей.\n",
    "\n",
    "На входе пользователь, на выходе – рекомендация фильмов для данного пользователя."
   ]
  },
  {
   "cell_type": "markdown",
   "metadata": {},
   "source": [
    "В item-item filtering мы:\n",
    "    \n",
    "1. Берём какой-либо фильм\n",
    "2. Находим пользователей, которым нравится этот фильм\n",
    "3. Смотрим на фильмы, которые нравятся найденным пользователям и выводим их в качестве рекомендации к исходному товару\n",
    "\n",
    "На входе фильм, на выходе – рекомендация в виде похожих фильмов."
   ]
  },
  {
   "cell_type": "markdown",
   "metadata": {},
   "source": [
    "* Item-Item Collaborative Filtering: \"Пользователям, которым нравится данный фильм, может так же понравиться это ...\"\n",
    "* User-Item Collaborative Filtering: \"Похожим на вас пользователям нравится это ...\""
   ]
  },
  {
   "cell_type": "markdown",
   "metadata": {},
   "source": [
    "В обоих случаях нам необходимо создать user-item матрицу, которая будет выглядеть следующим образом:\n",
    "\n",
    "|       | Item1 | Item2 | Item3 |\n",
    "|-------|-------|-------|-------|\n",
    "| User1 |   5   |   3   |   4   |\n",
    "| User2 |   4   |   0   |   0   |\n",
    "| User3 |   0   |   0   |   0   |\n",
    "\n",
    "В ячейках матрицы будет записана информация об оценке фильма $m$ пользователя $n$."
   ]
  },
  {
   "cell_type": "code",
   "execution_count": 8,
   "metadata": {},
   "outputs": [],
   "source": [
    "# создаём две user-item матрицы – для обучения и для теста\n",
    "train_data_matrix = np.zeros((n_users, n_items))\n",
    "for line in train_data.itertuples():\n",
    "    train_data_matrix[line[1] - 1, line[2] - 1] = line[3]  \n",
    "\n",
    "test_data_matrix = np.zeros((n_users, n_items))\n",
    "for line in test_data.itertuples():\n",
    "    test_data_matrix[line[1] - 1, line[2] - 1] = line[3]"
   ]
  },
  {
   "cell_type": "markdown",
   "metadata": {},
   "source": [
    "После того, как мы построим данную матрицу, на её основе необходимо будет рассчитать две новые матрицы с коэффициентами сходства (похожести, близости) для пользователей и для фильмов."
   ]
  },
  {
   "cell_type": "markdown",
   "metadata": {},
   "source": [
    "В качестве метрики близости в данной работе используется косинусное расстояние между векторами пользователей (фильмов)."
   ]
  },
  {
   "cell_type": "markdown",
   "metadata": {},
   "source": [
    "Формула для пользователей:"
   ]
  },
  {
   "cell_type": "markdown",
   "metadata": {},
   "source": [
    "$$ s_{u}^{cos}(u_k, u_a) = \\frac{u_k \\cdot  u_a}{\\left \\| u_k \\right \\| \\left \\| u_a \\right \\|} = \\frac{\\sum x_{k,m} x_{a,m}}{\\sqrt{\\sum x_{k,m}^2 \\sum x_{a,m}^2}} $$"
   ]
  },
  {
   "cell_type": "markdown",
   "metadata": {},
   "source": [
    "Формула для фильмов:"
   ]
  },
  {
   "cell_type": "markdown",
   "metadata": {},
   "source": [
    "$$ s_{u}^{cos}(i_m, i_b) = \\frac{i_m \\cdot  i_b}{\\left \\| i_m \\right \\| \\left \\| i_b \\right \\|} = \\frac{\\sum x_{a,m} x_{a,b}}{\\sqrt{\\sum x_{a,m}^2 \\sum x_{a,b}^2}} $$"
   ]
  },
  {
   "cell_type": "code",
   "execution_count": 9,
   "metadata": {},
   "outputs": [],
   "source": [
    "from sklearn.metrics.pairwise import pairwise_distances\n",
    "\n",
    "# считаем косинусное расстояние для пользователей и фильмов\n",
    "user_similarity = pairwise_distances(train_data_matrix, metric='cosine')\n",
    "item_similarity = pairwise_distances(train_data_matrix.T, metric='cosine') # обратите внимание на транспонирование при работе с item-based"
   ]
  },
  {
   "cell_type": "markdown",
   "metadata": {},
   "source": [
    "Матрица \"похожести\" для пользователей имеет следующий вид (аналогичную структуру имеет и матрицы для фильмов):\n",
    "\n",
    "|       | User1 | User1 | User3 |\n",
    "|-------|-------|-------|-------|\n",
    "| User1 |   0   | 0.87  | 0.99  |\n",
    "| User2 |   123   |   0   |   123123   |\n",
    "| User3 |   123   |   123   |   0  |"
   ]
  },
  {
   "cell_type": "markdown",
   "metadata": {},
   "source": [
    "Для предсказания в user-based CF необходимо применить следующую формулу:"
   ]
  },
  {
   "cell_type": "markdown",
   "metadata": {},
   "source": [
    "$$ \\hat{x}_{k,m} = \\overline{x}_k + \\frac{\\sum_{u_a} sim_u(u_k, u_a)(x_{a,m} - \\overline{x}_{u_a})}{\\sum_{u_a} \\left | sim_u(u_k, u_a) \\right |} $$"
   ]
  },
  {
   "cell_type": "markdown",
   "metadata": {},
   "source": [
    "Для item-based CF:"
   ]
  },
  {
   "cell_type": "markdown",
   "metadata": {},
   "source": [
    "$$ \\hat{x}_{k,m} = \\frac{\\sum_{i_b} sim_i(i_m, i_b)(x_{k,b})}{\\sum_{i_b} \\left | sim_i(i_m, i_b) \\right |} $$"
   ]
  },
  {
   "cell_type": "code",
   "execution_count": 18,
   "metadata": {},
   "outputs": [],
   "source": [
    "def predict(train_data_matrix, similarity, top):\n",
    "    # Матрица для хранения индексов top\n",
    "    top_similar = np.zeros((n_users, top))\n",
    "    \n",
    "    for i in range(n_users):\n",
    "        # Похожесть пользователя i \n",
    "        user_sim = user_similarity[i]\n",
    "        # Сортировка индексов наиболее похожих пользователей\n",
    "        top_sim_users = user_sim.argsort()[1:top + 1]\n",
    "        # По каждому из наиболее похожих пользователей\n",
    "        for j in range(top):\n",
    "            # Индекс j-пользователя (u`) для пользователя i (u)\n",
    "            top_similar[i, j] = top_sim_users[j]\n",
    "    # Модуль каждого элемента в матрице похожести\n",
    "    abs_sim = np.abs(user_similarity)\n",
    "    # Хранение прогнозируемых рейтингов\n",
    "    pred = np.zeros((n_users, n_items))\n",
    "    \n",
    "    for i in range(n_users):\n",
    "        # Индексы наиболее похожих пользователей\n",
    "        indexes = top_similar[i].astype(int)\n",
    "        # Сходноства между i и top похожими пользователями\n",
    "        numerator = user_similarity[i][indexes]\n",
    "        # Числитель формулы\n",
    "        product = numerator.dot(train_data_matrix[indexes])\n",
    "        # Знаменатель формулы\n",
    "        denominator = abs_sim[i][top_similar[i].astype(int)].sum()\n",
    "        \n",
    "        pred[i] = product / denominator\n",
    "    return pred"
   ]
  },
  {
   "cell_type": "code",
   "execution_count": 20,
   "metadata": {},
   "outputs": [],
   "source": [
    "similarity = user_similarity\n",
    "prediction = predict(train_data_matrix, similarity, 7)"
   ]
  },
  {
   "cell_type": "markdown",
   "metadata": {},
   "source": [
    "Для оценки качества предсказания используем метрику RMSE (Root Mean Square Error, cреднеквадратичная ошибка):"
   ]
  },
  {
   "cell_type": "markdown",
   "metadata": {},
   "source": [
    "$$ RMSE = \\sqrt{\\frac{1}{N}\\sum (x_i - \\hat{x}_i)^2} $$"
   ]
  },
  {
   "cell_type": "code",
   "execution_count": 23,
   "metadata": {},
   "outputs": [],
   "source": [
    "from sklearn.metrics import mean_squared_error\n",
    "from math import sqrt\n",
    "\n",
    "def rmse(prediction, ground_truth):\n",
    "    prediction = prediction[ground_truth.nonzero()].flatten() \n",
    "    ground_truth = ground_truth[ground_truth.nonzero()].flatten()\n",
    "    return sqrt(mean_squared_error(prediction, ground_truth))"
   ]
  },
  {
   "cell_type": "code",
   "execution_count": 26,
   "metadata": {},
   "outputs": [
    {
     "name": "stdout",
     "output_type": "stream",
     "text": [
      "RMSE: 2.765044389166193\n"
     ]
    }
   ],
   "source": [
    "print('RMSE: ' + str(rmse(prediction, test_data_matrix)))"
   ]
  },
  {
   "cell_type": "markdown",
   "metadata": {},
   "source": [
    "## Формулы для построения рекомендательных систем"
   ]
  },
  {
   "cell_type": "markdown",
   "metadata": {},
   "source": [
    "Примечание: формулы ниже описывают оценку в коллаборативной фильтрации (user-based). Content-based работает по аналогичному принипу, только вместо $u$ $u'$ подставляются $i$ $i'$."
   ]
  },
  {
   "cell_type": "markdown",
   "metadata": {},
   "source": [
    "### Наивные рекомендации"
   ]
  },
  {
   "cell_type": "markdown",
   "metadata": {},
   "source": [
    "Наивная рекомендательная система считает предсказанную оценку пользователя `u` фильму `i` по формуле:"
   ]
  },
  {
   "cell_type": "markdown",
   "metadata": {},
   "source": [
    "$$\n",
    "r_{u, i}=\\frac{\\sum_{u^{\\prime} \\in U} r_{u^{\\prime}, i}}{N}\n",
    "$$"
   ]
  },
  {
   "cell_type": "markdown",
   "metadata": {},
   "source": [
    "где\n",
    "\n",
    "$N$ — количество пользователей, похожих на пользователя $u$,\n",
    "\n",
    "$U$ — множество из $N$ похожих пользователей,\n",
    "\n",
    "$u'$ — пользователь, похожий на пользователя $u$ (из множества $U$),\n",
    "\n",
    "$r_{u', i}$ — оценка пользователя $u'$ фильму $i$,\n",
    "\n",
    "$r_{u,i}$ — предсказанная оценка фильма $i$."
   ]
  },
  {
   "cell_type": "markdown",
   "metadata": {},
   "source": [
    "По этой формуле предсказываемая оценка фильму $i$ пользователя u равняется средней оценке фильма $i$ от $N$ пользователей, наиболее похожих на пользователя $u$."
   ]
  },
  {
   "cell_type": "markdown",
   "metadata": {},
   "source": [
    "### Рекомендации с учётом средних оценок похожих пользователей"
   ]
  },
  {
   "cell_type": "markdown",
   "metadata": {},
   "source": [
    "Менее наивная реализация требует участия матрицы “похожести” и оценок “похожих” пользователей. Формула вычисления предсказанной оценки:"
   ]
  },
  {
   "cell_type": "markdown",
   "metadata": {},
   "source": [
    "$$\n",
    "r_{u, i}=\\frac{\\sum_{u^{\\prime} \\in U} \\operatorname{simil}\\left(u, u^{\\prime}\\right) r_{u^{\\prime}, i}}{\\sum_{u^{\\prime} \\in U}\\left|\\operatorname{simil}\\left(u, u^{\\prime}\\right)\\right|}\n",
    "$$"
   ]
  },
  {
   "cell_type": "markdown",
   "metadata": {},
   "source": [
    "где\n",
    "\n",
    "$simil(u, u')$ — “похожесть” пользователя $u$ и пользователя $u'$,\n",
    "\n",
    "$r_{u', i}$ — оценка пользователя $u’$ из $U$ фильму $i$,\n",
    "\n",
    "$U, u'$ — аналогичны предыдущей формуле."
   ]
  },
  {
   "cell_type": "markdown",
   "metadata": {},
   "source": [
    "То есть предсказываемая оценка фильму будет равна сумме произведений “похожести” пользователя на его оценку по всем наиболее похожим пользователям."
   ]
  },
  {
   "cell_type": "markdown",
   "metadata": {},
   "source": [
    "### Рекомендации на основе средних оценок пользователей и матрицы “похожести”"
   ]
  },
  {
   "cell_type": "markdown",
   "metadata": {},
   "source": [
    "Третья реализация зависит от оценок, которые пользователь ставил ранее (точнее, от средней оценки по всем оценённым пользователем фильмам), средних оценок “похожих” пользователей и коэффициентов “похожести”:"
   ]
  },
  {
   "cell_type": "markdown",
   "metadata": {},
   "source": [
    "$$\n",
    "r_{u, i}=\\bar{r}_u+\\frac{\\sum_{u^{\\prime} \\in U} \\operatorname{simil}\\left(u, u^{\\prime}\\right)\\left(r_{u^{\\prime}, i}-\\bar{r}_{u^{\\prime}}\\right)}{\\sum_{u^{\\prime} \\in U}\\left|\\operatorname{simil}\\left(u, u^{\\prime}\\right)\\right|}\n",
    "$$"
   ]
  },
  {
   "cell_type": "markdown",
   "metadata": {},
   "source": [
    "где $\\bar{r}$ — средняя оценка соответствующего пользователя, а остальные переменные формулы уже обсуждались выше."
   ]
  },
  {
   "cell_type": "code",
   "execution_count": null,
   "metadata": {},
   "outputs": [],
   "source": []
  }
 ],
 "metadata": {
  "kernelspec": {
   "display_name": "Python 3 (ipykernel)",
   "language": "python",
   "name": "python3"
  },
  "language_info": {
   "codemirror_mode": {
    "name": "ipython",
    "version": 3
   },
   "file_extension": ".py",
   "mimetype": "text/x-python",
   "name": "python",
   "nbconvert_exporter": "python",
   "pygments_lexer": "ipython3",
   "version": "3.10.9"
  }
 },
 "nbformat": 4,
 "nbformat_minor": 2
}
