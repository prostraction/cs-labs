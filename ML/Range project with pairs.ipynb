{
 "cells": [
  {
   "cell_type": "markdown",
   "id": "df47ef0f",
   "metadata": {},
   "source": [
    "Ранжирование проектов с помощью парных сравнений"
   ]
  },
  {
   "cell_type": "markdown",
   "id": "8fd5664e",
   "metadata": {},
   "source": [
    "### Лист 1"
   ]
  },
  {
   "cell_type": "code",
   "execution_count": 358,
   "id": "cbf106b0",
   "metadata": {},
   "outputs": [],
   "source": [
    "import matplotlib.pyplot as plt\n",
    "import numpy as np\n",
    "objects = ['Физкультура','Иностранный язык (испанский)','Информатика','Музыка','Литература','Русский язык','Математика']"
   ]
  },
  {
   "cell_type": "markdown",
   "id": "f70c64f1",
   "metadata": {},
   "source": [
    "Предпочтение объектов: a6>a1>a5>a4=a2=a3>a7"
   ]
  },
  {
   "cell_type": "code",
   "execution_count": 359,
   "id": "74eef2ec",
   "metadata": {},
   "outputs": [],
   "source": [
    "range_names = [6, 1, 5, 4, 2, 3, 7] #r\n",
    "range_values = [1, 2, 3, 5, 5, 6, 7]\n",
    "\n",
    "#a_1, a_2, a_3, a_4, a_5, a_6, a_7\n",
    "range_list = [2, 4, 6, 4, 4, 1, 7] #R_Н"
   ]
  },
  {
   "cell_type": "code",
   "execution_count": 360,
   "id": "3ad8aaa7",
   "metadata": {},
   "outputs": [
    {
     "name": "stdout",
     "output_type": "stream",
     "text": [
      "Парные сравнения (лист 1)\n",
      "[2, 3, 3, 3, 3, 1, 3]\n",
      "[1, 2, 3, 2, 2, 1, 3]\n",
      "[1, 1, 2, 1, 1, 1, 3]\n",
      "[1, 2, 3, 2, 2, 1, 3]\n",
      "[1, 2, 3, 2, 2, 1, 3]\n",
      "[3, 3, 3, 3, 3, 2, 3]\n",
      "[1, 1, 1, 1, 1, 1, 2]\n"
     ]
    }
   ],
   "source": [
    "pair_compare = [0] * 7\n",
    "for i in range(0, 7):\n",
    "    pair_compare[i] = [0] * 7\n",
    "\n",
    "for i in range(0, 7):\n",
    "    for j in range(0, 7):\n",
    "        if range_list[i] < range_list[j]:\n",
    "            pair_compare[i][j] = 3\n",
    "        elif range_list[i] > range_list[j]:\n",
    "            pair_compare[i][j] = 1\n",
    "        else:\n",
    "            pair_compare[i][j] = 2\n",
    "\n",
    "print(\"Парные сравнения (лист 1)\")\n",
    "for i in range(0, 7):\n",
    "    print(pair_compare[i])"
   ]
  },
  {
   "cell_type": "code",
   "execution_count": 361,
   "id": "6dbd4103",
   "metadata": {},
   "outputs": [
    {
     "name": "stdout",
     "output_type": "stream",
     "text": [
      "Сл\tСл_Н\tРанги\n",
      "18\t0.18\t2\n",
      "14\t0.14\t4\n",
      "10\t0.10\t6\n",
      "14\t0.14\t4\n",
      "14\t0.14\t4\n",
      "20\t0.20\t1\n",
      "8\t0.08\t7\n",
      "---------------------\n",
      "98\t1.00\n"
     ]
    }
   ],
   "source": [
    "def calculate_average_positions(arr):\n",
    "    sorted_arr = sorted(arr, reverse=True)\n",
    "    positions = {}\n",
    "    for index, value in enumerate(sorted_arr, start=1):\n",
    "        if value in positions:\n",
    "            positions[value].append(index)\n",
    "        else:\n",
    "            positions[value] = [index]\n",
    "    average_positions = {value: sum(pos)/len(pos) for value, pos in positions.items()}\n",
    "    return average_positions\n",
    "  \n",
    "sum_all = 0\n",
    "method_sum = [0] * 7\n",
    "sum_all_N = 0\n",
    "method_sum_N = [0] * 7\n",
    "\n",
    "for i in range(0, 7):\n",
    "    sum_it = 0\n",
    "    for j in range(0, 7):\n",
    "        sum_it += pair_compare[i][j]\n",
    "    method_sum[i] = sum_it\n",
    "    sum_all += sum_it\n",
    "\n",
    "for i in range(0, 7):\n",
    "    method_sum_N[i] = method_sum[i] / sum_all\n",
    "    sum_all_N += method_sum_N[i]\n",
    "\n",
    "sorted_descending = sorted(method_sum_N, reverse=True)\n",
    "order_dict_desc = {value: index for index, value in enumerate(sorted_descending, start=1)}\n",
    "average_positions_dict = calculate_average_positions(method_sum_N)\n",
    "\n",
    "print(f\"Сл\\tСл_Н\\tРанги\")\n",
    "for i in range(0, 7):\n",
    "    print(f\"{method_sum[i]}\\t{method_sum_N[i]:.2f}\\t{average_positions_dict[method_sum_N[i]]:.0f}\")\n",
    "print(f\"---------------------\")\n",
    "print(f\"{sum_all}\\t{sum_all_N:.2f}\")\n"
   ]
  },
  {
   "cell_type": "markdown",
   "id": "278a439a",
   "metadata": {},
   "source": [
    "### Лист 2"
   ]
  },
  {
   "cell_type": "code",
   "execution_count": 362,
   "id": "843aca3d",
   "metadata": {},
   "outputs": [
    {
     "data": {
      "image/png": "[encoded data removed]",
      "text/plain": [
       "<Figure size 1000x600 with 1 Axes>"
      ]
     },
     "metadata": {},
     "output_type": "display_data"
    }
   ],
   "source": [
    "lines_length = [0] * 7\n",
    "lines_start = [0] * 7\n",
    "lines_end = [0] * 7\n",
    "\n",
    "\n",
    "np.random.seed(99)\n",
    "for i in range (0, 7):\n",
    "    lines_length[i] = np.random.uniform(7,10)\n",
    "    lines_start[i] = np.random.uniform(0,10)\n",
    "    lines_end[i] = lines_start[i] + lines_length[i]\n",
    "    \n",
    "\n",
    "plt.figure(figsize=(10, 6))\n",
    "for i in range(7):\n",
    "    plt.plot([lines_start[i], lines_end[i]], [i+1, i+1], marker='o')\n",
    "plt.xlabel('Длина')\n",
    "plt.ylabel('Объект')\n",
    "plt.grid(True)\n",
    "plt.show()"
   ]
  },
  {
   "cell_type": "code",
   "execution_count": 363,
   "id": "d3443e91",
   "metadata": {},
   "outputs": [
    {
     "name": "stdout",
     "output_type": "stream",
     "text": [
      "a7 = 6; a6 = 3; a5 = 1; a4 = 7; a3 = 5; a2 = 2; a1 = 4; \n",
      "3\n",
      "6\n",
      "5\n",
      "1\n",
      "7\n",
      "4\n",
      "2\n"
     ]
    }
   ],
   "source": [
    "sorted_indices = np.argsort(lines_end)\n",
    "output = \"\".join([f\"a{i+1} = {sorted_indices[i]+1}; \" for i in range (6, -1, -1)])\n",
    "print(output)\n",
    "\n",
    "len_sum = 0\n",
    "for i in range(0, 7):\n",
    "    len_sum += lines_length[i]\n",
    "\n",
    "fact = [0] * 7\n",
    "for i in range(0, 7):\n",
    "    fact[i] = lines_length[i] / len_sum\n",
    "    \n",
    "sorted_fact = sorted(fact, reverse=False)\n",
    "order_dict_fact = {value: index for index, value in enumerate(sorted_fact, start=1)}\n",
    "\n",
    "for i in range(0, 7):\n",
    "    print(order_dict_fact[fact[i]])\n"
   ]
  },
  {
   "cell_type": "code",
   "execution_count": 364,
   "id": "7b60d94b",
   "metadata": {},
   "outputs": [
    {
     "name": "stdout",
     "output_type": "stream",
     "text": [
      "Парные сравнения (лист 2)\n",
      "1 = [2, 1, 3, 3, 1, 1, 3]\n",
      "2 = [3, 2, 3, 3, 1, 3, 3]\n",
      "3 = [1, 1, 2, 3, 1, 1, 3]\n",
      "4 = [1, 1, 1, 2, 1, 1, 1]\n",
      "5 = [3, 3, 3, 3, 2, 3, 3]\n",
      "6 = [3, 1, 3, 3, 1, 2, 3]\n",
      "7 = [1, 1, 1, 3, 1, 1, 2]\n"
     ]
    }
   ],
   "source": [
    "pair_compare_l2 = [0] * 7\n",
    "for i in range(0, 7):\n",
    "    pair_compare_l2[i] = [0] * 7\n",
    "\n",
    "for i in range(0, 7):\n",
    "    for j in range(0, 7):\n",
    "        if sorted_indices[i] < sorted_indices[j]:\n",
    "            pair_compare_l2[i][j] = 3\n",
    "        elif sorted_indices[i] > sorted_indices[j]:\n",
    "            pair_compare_l2[i][j] = 1\n",
    "        else:\n",
    "            pair_compare_l2[i][j] = 2\n",
    "\n",
    "print(\"Парные сравнения (лист 2)\")\n",
    "for i in range(0, 7):\n",
    "    print(f\"{i+1} = {pair_compare_l2[i]}\")"
   ]
  },
  {
   "cell_type": "code",
   "execution_count": 365,
   "id": "69c160b7",
   "metadata": {},
   "outputs": [
    {
     "name": "stdout",
     "output_type": "stream",
     "text": [
      "Сл\tСл_Н\tРанги\tоРнг\n",
      "14\t0.14\t4\t4\n",
      "18\t0.18\t2\t6\n",
      "12\t0.12\t5\t3\n",
      "8\t0.08\t7\t1\n",
      "20\t0.20\t1\t7\n",
      "16\t0.16\t3\t5\n",
      "10\t0.10\t6\t2\n",
      "-----------------------------\n",
      "98\t1.00\n"
     ]
    }
   ],
   "source": [
    "sum_all_l2_1 = 0\n",
    "method_sum_l2_1 = [0] * 7\n",
    "sum_all_N_l2_1 = 0\n",
    "method_sum_N_l2_1 = [0] * 7\n",
    "\n",
    "for i in range(0, 7):\n",
    "    sum_it = 0\n",
    "    for j in range(0, 7):\n",
    "        sum_it += pair_compare_l2[i][j]\n",
    "    method_sum_l2_1[i] = sum_it\n",
    "    sum_all_l2_1 += sum_it\n",
    "\n",
    "for i in range(0, 7):\n",
    "    method_sum_N_l2_1[i] = method_sum_l2_1[i] / sum_all_l2_1\n",
    "    sum_all_N_l2_1 += method_sum_N_l2_1[i]\n",
    "\n",
    "sorted_descending_l2_1 = sorted(method_sum_N_l2_1, reverse=True)\n",
    "order_dict_desc_l2_1 = {value: index for index, value in enumerate(sorted_descending_l2_1, start=1)}\n",
    "\n",
    "print(f\"Сл\\tСл_Н\\tРанги\\tоРнг\")\n",
    "for i in range(0, 7):\n",
    "    print(f\"{method_sum_l2_1[i]}\\t{method_sum_N_l2_1[i]:.2f}\\t{order_dict_desc_l2_1[method_sum_N_l2_1[i]]:.0f}\\t{8-order_dict_desc_l2_1[method_sum_N_l2_1[i]]:.0f}\")\n",
    "print(f\"-----------------------------\")\n",
    "print(f\"{sum_all_l2_1}\\t{sum_all_N_l2_1:.2f}\")\n"
   ]
  },
  {
   "cell_type": "code",
   "execution_count": 366,
   "id": "294934c8",
   "metadata": {},
   "outputs": [
    {
     "name": "stdout",
     "output_type": "stream",
     "text": [
      "Пр\tПр_Н\tРанги\tоРнг\n",
      "54\t0.025\t4\t4\n",
      "486\t0.222\t2\t6\n",
      "18\t0.008\t5\t3\n",
      "2\t0.001\t7\t1\n",
      "1458\t0.667\t1\t7\n",
      "162\t0.074\t3\t5\n",
      "6\t0.003\t6\t2\n",
      "-----------------------------\n",
      "2186\t1.000\n"
     ]
    }
   ],
   "source": [
    "mult_all_l2_1 = [1] * 7\n",
    "mult_N_all_l2_1 = [0] * 7\n",
    "sum_mult_all_l2_1 = 0\n",
    "sum_mult_N_all_l2_1 = 0\n",
    "\n",
    "for i in range(0, 7):\n",
    "    for j in range(0,7):\n",
    "        mult_all_l2_1[i] *= pair_compare_l2[i][j]\n",
    "\n",
    "for i in range(0, 7):\n",
    "    sum_mult_all_l2_1 += mult_all_l2_1[i]\n",
    "        \n",
    "for i in range(0, 7):\n",
    "    mult_N_all_l2_1[i] = mult_all_l2_1[i] / sum_mult_all_l2_1\n",
    "    sum_mult_N_all_l2_1 += mult_N_all_l2_1[i]\n",
    "    \n",
    "sorted_descending_l2_1_verify = sorted(mult_N_all_l2_1, reverse=True)\n",
    "order_dict_desc_l2_1_verify = {value: index for index, value in enumerate(sorted_descending_l2_1_verify, start=1)}\n",
    "\n",
    "print(f\"Пр\\tПр_Н\\tРанги\\tоРнг\")\n",
    "for i in range(0, 7):\n",
    "    print(f\"{mult_all_l2_1[i]}\\t{mult_N_all_l2_1[i]:.3f}\\t{order_dict_desc_l2_1_verify[mult_N_all_l2_1[i]]:.0f}\\t{8-order_dict_desc_l2_1_verify[mult_N_all_l2_1[i]]:.0f}\")\n",
    "print(f\"-----------------------------\")\n",
    "print(f\"{sum_mult_all_l2_1}\\t{sum_mult_N_all_l2_1:.3f}\")\n",
    "\n"
   ]
  },
  {
   "cell_type": "code",
   "execution_count": 367,
   "id": "6b08fade",
   "metadata": {},
   "outputs": [
    {
     "name": "stdout",
     "output_type": "stream",
     "text": [
      "Льюиса\n",
      "---------------------------------------------------------\n",
      "2.00\t0.33\t3.00\t3.00\t0.33\t0.33\t3.00\t\n",
      "3.00\t2.00\t3.00\t3.00\t0.33\t3.00\t3.00\t\n",
      "0.33\t0.33\t2.00\t3.00\t0.33\t0.33\t3.00\t\n",
      "0.33\t0.33\t0.33\t2.00\t0.33\t0.33\t0.33\t\n",
      "3.00\t3.00\t3.00\t3.00\t2.00\t3.00\t3.00\t\n",
      "3.00\t0.33\t3.00\t3.00\t0.33\t2.00\t3.00\t\n",
      "0.33\t0.33\t0.33\t3.00\t0.33\t0.33\t2.00\t\n"
     ]
    }
   ],
   "source": [
    "luis = [0] * 7\n",
    "for i in range(0, 7):\n",
    "    luis[i] = [0] * 7\n",
    "    \n",
    "for i in range(0, 7):\n",
    "    for j in range(0, 7):\n",
    "        if i == j:\n",
    "            luis[i][j] = 2\n",
    "        else:\n",
    "            luis[i][j] = pair_compare_l2[i][j] / pair_compare_l2[j][i]\n",
    "\n",
    "print(\"Льюиса\\n---------------------------------------------------------\")\n",
    "            \n",
    "for i in range(0, 7):\n",
    "    str = \"\"\n",
    "    for j in range(0, 7):\n",
    "        str += (f\"{luis[i][j]:.2f}\\t\")\n",
    "    print (str)"
   ]
  },
  {
   "cell_type": "code",
   "execution_count": 368,
   "id": "3eb10176",
   "metadata": {},
   "outputs": [
    {
     "name": "stdout",
     "output_type": "stream",
     "text": [
      "Лью\tЛ_Н\tРанги\tоРнг\n",
      "0.08\t0.109\t4\t4\n",
      "0.06\t0.075\t6\t2\n",
      "0.11\t0.140\t3\t5\n",
      "0.25\t0.326\t1\t7\n",
      "0.05\t0.065\t7\t1\n",
      "0.07\t0.089\t5\t3\n",
      "0.15\t0.196\t2\t6\n",
      "-----------------------------\n",
      "0.77\t1.000\n"
     ]
    }
   ],
   "source": [
    "luis_cf = [0] * 7\n",
    "sum_luis_cf = 0\n",
    "for i in range(0, 7):\n",
    "    sum_of_luis_cf = 0\n",
    "    for j in range(0, 7):\n",
    "        sum_of_luis_cf += luis[i][j]\n",
    "    luis_cf[i] = 1 / sum_of_luis_cf\n",
    "    sum_luis_cf += luis_cf[i]\n",
    "    \n",
    "luis_N = [0] * 7\n",
    "luis_N_sum = 0\n",
    "for i in range(0, 7):\n",
    "    luis_N[i] = luis_cf[i] / sum_luis_cf\n",
    "    luis_N_sum += luis_N[i]\n",
    "    \n",
    "sorted_descending_l2_luis_N = sorted(luis_N, reverse=True)\n",
    "order_dict_desc_l2_luis_N = {value: index for index, value in enumerate(sorted_descending_l2_luis_N, start=1)}\n",
    "\n",
    "print(f\"Лью\\tЛ_Н\\tРанги\\tоРнг\")\n",
    "for i in range(0, 7):\n",
    "    print(f\"{luis_cf[i]:.2f}\\t{luis_N[i]:.3f}\\t{order_dict_desc_l2_luis_N[luis_N[i]]:.0f}\\t{8-order_dict_desc_l2_luis_N[luis_N[i]]:.0f}\")\n",
    "print(f\"-----------------------------\")\n",
    "print(f\"{sum_luis_cf:.2f}\\t{luis_N_sum:.3f}\")\n"
   ]
  },
  {
   "cell_type": "code",
   "execution_count": 369,
   "id": "952cf087",
   "metadata": {},
   "outputs": [
    {
     "data": {
      "image/png": "[encoded data removed]",
      "text/plain": [
       "<Figure size 640x480 with 1 Axes>"
      ]
     },
     "metadata": {},
     "output_type": "display_data"
    }
   ],
   "source": [
    "labels = (\"Метод слож.\", \"Метод перемнож.\", \"Метод Льюиса\", \"Факт\")\n",
    "l2_values = {}\n",
    "for i in range(0, 7):\n",
    "    l2_values.update({i: (method_sum_N_l2_1[i], mult_N_all_l2_1[i], luis_N[i], fact[i])})\n",
    "\n",
    "n_methods = len(labels)\n",
    "n_groups = len(l2_values)\n",
    "x = np.arange(n_groups)\n",
    "width = 0.2\n",
    "\n",
    "fig, ax = plt.subplots()\n",
    "for i in range(n_methods):\n",
    "    values = [l2_values[group][i] for group in l2_values]\n",
    "    ax.bar(x - (1.5 - i) * width, values, width, label=labels[i])\n",
    "\n",
    "ax.set_ylabel('Значения')\n",
    "ax.set_title('Сравнение по методу')\n",
    "ax.set_xticks(x)\n",
    "ax.set_xticklabels([f\"{i+1}\" for i in x])\n",
    "ax.legend()\n",
    "\n",
    "plt.show()"
   ]
  },
  {
   "cell_type": "code",
   "execution_count": 370,
   "id": "426ae2db",
   "metadata": {},
   "outputs": [
    {
     "data": {
      "image/png": "[encoded data removed]",
      "text/plain": [
       "<Figure size 640x480 with 1 Axes>"
      ]
     },
     "metadata": {},
     "output_type": "display_data"
    }
   ],
   "source": [
    "l2_values_r = {}\n",
    "for i in range(0, 7):\n",
    "    l2_values_r.update({i: (8-order_dict_desc_l2_1[method_sum_N_l2_1[i]], \n",
    "                            8-order_dict_desc_l2_1_verify[mult_N_all_l2_1[i]], \n",
    "                            8-order_dict_desc_l2_luis_N[luis_N[i]], \n",
    "                            8-order_dict_fact[fact[i]])})\n",
    "\n",
    "n_methods = len(labels)\n",
    "n_groups = len(l2_values)\n",
    "x = np.arange(n_groups)\n",
    "width = 0.2\n",
    "\n",
    "fig, ax = plt.subplots()\n",
    "for i in range(n_methods):\n",
    "    values = [l2_values_r[group][i] for group in l2_values_r]\n",
    "    ax.bar(x - (1.5 - i) * width, values, width, label=labels[i])\n",
    "\n",
    "ax.set_ylabel('Значения')\n",
    "ax.set_title('Сравнение по методу')\n",
    "ax.set_xticks(x)\n",
    "ax.set_xticklabels([f\"{i+1}\" for i in x])\n",
    "ax.legend()\n",
    "\n",
    "plt.show()"
   ]
  },
  {
   "cell_type": "code",
   "execution_count": 371,
   "id": "d63059e9",
   "metadata": {},
   "outputs": [
    {
     "name": "stdout",
     "output_type": "stream",
     "text": [
      "Непрерывная шкала (лист 2)\n",
      "1 = 0.5  0.4  0.7  0.9  0.3  0.1  0.8  \n",
      "2 = 0.7  0.5  0.8  0.7  0.3  0.8  0.7  \n",
      "3 = 0.3  0.1  0.5  0.7  0.1  0.1  0.7  \n",
      "4 = 0.2  0.1  0.2  0.5  0.1  0.4  0.3  \n",
      "5 = 0.7  0.9  0.8  0.6  0.5  0.8  0.8  \n",
      "6 = 0.8  0.4  0.7  0.9  0.2  0.5  0.7  \n",
      "7 = 0.3  0.2  0.2  0.9  0.4  0.4  0.5  \n"
     ]
    }
   ],
   "source": [
    "pair_compare_l2_2 = [0] * 7\n",
    "for i in range(0, 7):\n",
    "    pair_compare_l2_2[i] = [0] * 7\n",
    "\n",
    "for i in range(0, 7):\n",
    "    for j in range(0, 7):\n",
    "        if sorted_indices[i] < sorted_indices[j]:\n",
    "            pair_compare_l2_2[i][j] = np.random.uniform(0.6, 0.9)\n",
    "        elif sorted_indices[i] > sorted_indices[j]:\n",
    "            pair_compare_l2_2[i][j] = np.random.uniform(0.1, 0.4)\n",
    "        else:\n",
    "            pair_compare_l2_2[i][j] = 0.5\n",
    "\n",
    "print(\"Непрерывная шкала (лист 2)\")\n",
    "for i in range(0, 7):\n",
    "    str = \"\"\n",
    "    for j in range(0, 7):\n",
    "        str += f\"{pair_compare_l2_2[i][j]:.1f}  \"\n",
    "    print(f\"{i+1} = {str}\")"
   ]
  },
  {
   "cell_type": "code",
   "execution_count": 372,
   "id": "6a145970",
   "metadata": {},
   "outputs": [
    {
     "name": "stdout",
     "output_type": "stream",
     "text": [
      "Сл\tСл_Н\tРанги\tоРнг\n",
      "3.72\t0.15\t4\t4\n",
      "4.48\t0.18\t2\t6\n",
      "2.58\t0.11\t6\t2\n",
      "1.77\t0.07\t7\t1\n",
      "4.95\t0.20\t1\t7\n",
      "4.18\t0.17\t3\t5\n",
      "2.75\t0.11\t5\t3\n",
      "-----------------------------\n",
      "24.43\t1.00\n"
     ]
    }
   ],
   "source": [
    "sum_all_l2_2 = 0\n",
    "method_sum_l2_2 = [0] * 7\n",
    "sum_all_N_l2_2 = 0\n",
    "method_sum_N_l2_2 = [0] * 7\n",
    "\n",
    "for i in range(0, 7):\n",
    "    sum_it = 0\n",
    "    for j in range(0, 7):\n",
    "        sum_it += pair_compare_l2_2[i][j]\n",
    "    method_sum_l2_2[i] = sum_it\n",
    "    sum_all_l2_2 += sum_it\n",
    "\n",
    "for i in range(0, 7):\n",
    "    method_sum_N_l2_2[i] = method_sum_l2_2[i] / sum_all_l2_2\n",
    "    sum_all_N_l2_2 += method_sum_N_l2_2[i]\n",
    "\n",
    "sorted_descending_l2_2 = sorted(method_sum_N_l2_2, reverse=True)\n",
    "order_dict_desc_l2_2 = {value: index for index, value in enumerate(sorted_descending_l2_2, start=1)}\n",
    "\n",
    "print(f\"Сл\\tСл_Н\\tРанги\\tоРнг\")\n",
    "for i in range(0, 7):\n",
    "    print(f\"{method_sum_l2_2[i]:.2f}\\t{method_sum_N_l2_2[i]:.2f}\\t{order_dict_desc_l2_2[method_sum_N_l2_2[i]]:.0f}\\t{8-order_dict_desc_l2_2[method_sum_N_l2_2[i]]:.0f}\")\n",
    "print(f\"-----------------------------\")\n",
    "print(f\"{sum_all_l2_2:.2f}\\t{sum_all_N_l2_2:.2f}\")"
   ]
  },
  {
   "cell_type": "code",
   "execution_count": 373,
   "id": "80f100ab",
   "metadata": {},
   "outputs": [
    {
     "name": "stdout",
     "output_type": "stream",
     "text": [
      "Пр\tПр_Н\tРанги\tоРнг\n",
      "0.003\t0.025\t4\t4\n",
      "0.034\t0.257\t2\t6\n",
      "0.000\t0.001\t6\t2\n",
      "0.000\t0.000\t7\t1\n",
      "0.080\t0.603\t1\t7\n",
      "0.014\t0.109\t3\t5\n",
      "0.001\t0.004\t5\t3\n",
      "-----------------------------\n",
      "0.133\t1.000\n"
     ]
    }
   ],
   "source": [
    "mult_all_l2_2 = [1] * 7\n",
    "mult_N_all_l2_2 = [0] * 7\n",
    "sum_mult_all_l2_2 = 0\n",
    "sum_mult_N_all_l2_2 = 0\n",
    "\n",
    "for i in range(0, 7):\n",
    "    for j in range(0,7):\n",
    "        mult_all_l2_2[i] *= pair_compare_l2_2[i][j]\n",
    "\n",
    "for i in range(0, 7):\n",
    "    sum_mult_all_l2_2 += mult_all_l2_2[i]\n",
    "        \n",
    "for i in range(0, 7):\n",
    "    mult_N_all_l2_2[i] = mult_all_l2_2[i] / sum_mult_all_l2_2\n",
    "    sum_mult_N_all_l2_2 += mult_N_all_l2_2[i]\n",
    "    \n",
    "sorted_descending_l2_2_verify = sorted(mult_N_all_l2_2, reverse=True)\n",
    "order_dict_desc_l2_2_verify = {value: index for index, value in enumerate(sorted_descending_l2_2_verify, start=1)}\n",
    "\n",
    "print(f\"Пр\\tПр_Н\\tРанги\\tоРнг\")\n",
    "for i in range(0, 7):\n",
    "    print(f\"{mult_all_l2_2[i]:.3f}\\t{mult_N_all_l2_2[i]:.3f}\\t{order_dict_desc_l2_2_verify[mult_N_all_l2_2[i]]:.0f}\\t{8-order_dict_desc_l2_2_verify[mult_N_all_l2_2[i]]:.0f}\")\n",
    "print(f\"-----------------------------\")\n",
    "print(f\"{sum_mult_all_l2_2:.3f}\\t{sum_mult_N_all_l2_2:.3f}\")"
   ]
  },
  {
   "cell_type": "code",
   "execution_count": 374,
   "id": "42a30cc7",
   "metadata": {},
   "outputs": [
    {
     "name": "stdout",
     "output_type": "stream",
     "text": [
      "Льюиса\n",
      "---------------------------------------------------------\n",
      "2.00\t0.57\t2.45\t3.67\t0.40\t0.15\t3.19\t\n",
      "1.75\t2.00\t5.96\t5.58\t0.39\t2.42\t3.13\t\n",
      "0.41\t0.17\t2.00\t4.24\t0.17\t0.21\t4.12\t\n",
      "0.27\t0.18\t0.24\t2.00\t0.17\t0.42\t0.30\t\n",
      "2.53\t2.55\t5.91\t6.01\t2.00\t3.16\t2.07\t\n",
      "6.56\t0.41\t4.72\t2.41\t0.32\t2.00\t1.93\t\n",
      "0.31\t0.32\t0.24\t3.29\t0.48\t0.52\t2.00\t\n"
     ]
    }
   ],
   "source": [
    "luis2 = [0] * 7\n",
    "for i in range(0, 7):\n",
    "    luis2[i] = [0] * 7\n",
    "    \n",
    "for i in range(0, 7):\n",
    "    for j in range(0, 7):\n",
    "        if i == j:\n",
    "            luis2[i][j] = 2\n",
    "        else:\n",
    "            luis2[i][j] = pair_compare_l2_2[i][j] / pair_compare_l2_2[j][i]\n",
    "\n",
    "print(\"Льюиса\\n---------------------------------------------------------\")\n",
    "            \n",
    "for i in range(0, 7):\n",
    "    str = \"\"\n",
    "    for j in range(0, 7):\n",
    "        str += (f\"{luis2[i][j]:.2f}\\t\")\n",
    "    print (str)"
   ]
  },
  {
   "cell_type": "code",
   "execution_count": 375,
   "id": "ee112406",
   "metadata": {},
   "outputs": [
    {
     "name": "stdout",
     "output_type": "stream",
     "text": [
      "Лью\tЛ_Н\tРанги\tоРнг\n",
      "0.08\t0.110\t4\t4\n",
      "0.05\t0.064\t6\t2\n",
      "0.09\t0.121\t3\t5\n",
      "0.28\t0.383\t1\t7\n",
      "0.04\t0.056\t7\t1\n",
      "0.05\t0.075\t5\t3\n",
      "0.14\t0.191\t2\t6\n",
      "-----------------------------\n",
      "0.73\t1.000\n"
     ]
    }
   ],
   "source": [
    "luis_cf2 = [0] * 7\n",
    "sum_luis_cf2 = 0\n",
    "for i in range(0, 7):\n",
    "    sum_of_luis_cf2 = 0\n",
    "    for j in range(0, 7):\n",
    "        sum_of_luis_cf2 += luis2[i][j]\n",
    "    luis_cf2[i] = 1 / sum_of_luis_cf2\n",
    "    sum_luis_cf2 += luis_cf2[i]\n",
    "    \n",
    "luis_N2 = [0] * 7\n",
    "luis_N_sum2 = 0\n",
    "for i in range(0, 7):\n",
    "    luis_N2[i] = luis_cf2[i] / sum_luis_cf2\n",
    "    luis_N_sum2 += luis_N2[i]\n",
    "    \n",
    "sorted_descending_l2_luis_N2 = sorted(luis_N2, reverse=True)\n",
    "order_dict_desc_l2_luis_N2 = {value: index for index, value in enumerate(sorted_descending_l2_luis_N2, start=1)}\n",
    "\n",
    "print(f\"Лью\\tЛ_Н\\tРанги\\tоРнг\")\n",
    "for i in range(0, 7):\n",
    "    print(f\"{luis_cf2[i]:.2f}\\t{luis_N2[i]:.3f}\\t{order_dict_desc_l2_luis_N2[luis_N2[i]]:.0f}\\t{8-order_dict_desc_l2_luis_N2[luis_N2[i]]:.0f}\")\n",
    "print(f\"-----------------------------\")\n",
    "print(f\"{sum_luis_cf2:.2f}\\t{luis_N_sum2:.3f}\")\n"
   ]
  },
  {
   "cell_type": "code",
   "execution_count": 376,
   "id": "978e9106",
   "metadata": {},
   "outputs": [
    {
     "data": {
      "image/png": "[encoded data removed]",
      "text/plain": [
       "<Figure size 640x480 with 1 Axes>"
      ]
     },
     "metadata": {},
     "output_type": "display_data"
    }
   ],
   "source": [
    "labels2 = (\"Метод слож.\", \"Метод перемнож.\", \"Метод Льюиса\", \"Факт\")\n",
    "l2_values2 = {}\n",
    "for i in range(0, 7):\n",
    "    l2_values2.update({i: (method_sum_N_l2_2[i], mult_N_all_l2_2[i], luis_N2[i], fact[i])})\n",
    "\n",
    "n_methods2 = len(labels)\n",
    "n_groups2 = len(l2_values)\n",
    "x2 = np.arange(n_groups2)\n",
    "width = 0.2\n",
    "\n",
    "fig2, ax2 = plt.subplots()\n",
    "for i in range(n_methods):\n",
    "    values2 = [l2_values2[group][i] for group in l2_values2]\n",
    "    ax2.bar(x2 - (1.5 - i) * width, values2, width, label=labels2[i])\n",
    "\n",
    "ax2.set_ylabel('Значения')\n",
    "ax2.set_title('Сравнение по методу')\n",
    "ax2.set_xticks(x)\n",
    "ax2.set_xticklabels([f\"{i+1}\" for i in x])\n",
    "ax2.legend()\n",
    "\n",
    "plt.show()"
   ]
  },
  {
   "cell_type": "code",
   "execution_count": 377,
   "id": "b50c113c",
   "metadata": {},
   "outputs": [
    {
     "data": {
      "image/png": "[encoded data removed]",
      "text/plain": [
       "<Figure size 640x480 with 1 Axes>"
      ]
     },
     "metadata": {},
     "output_type": "display_data"
    }
   ],
   "source": [
    "l2_values_r2 = {}\n",
    "for i in range(0, 7):\n",
    "    l2_values_r2.update({i: (8-order_dict_desc_l2_2[method_sum_N_l2_2[i]], \n",
    "                            8-order_dict_desc_l2_2_verify[mult_N_all_l2_2[i]], \n",
    "                            8-order_dict_desc_l2_luis_N2[luis_N2[i]], \n",
    "                            8-order_dict_fact[fact[i]])})\n",
    "\n",
    "n_methods2 = len(labels2)\n",
    "n_groups2 = len(l2_values2)\n",
    "x2 = np.arange(n_groups2)\n",
    "width = 0.2\n",
    "\n",
    "fig2, ax2 = plt.subplots()\n",
    "for i in range(n_methods):\n",
    "    values2 = [l2_values_r[group][i] for group in l2_values_r2]\n",
    "    ax2.bar(x2 - (1.5 - i) * width, values2, width, label=labels2[i])\n",
    "\n",
    "ax2.set_ylabel('Значения')\n",
    "ax2.set_title('Сравнение по методу')\n",
    "ax2.set_xticks(x)\n",
    "ax2.set_xticklabels([f\"{i+1}\" for i in x])\n",
    "ax2.legend()\n",
    "\n",
    "plt.show()"
   ]
  },
  {
   "cell_type": "code",
   "execution_count": 378,
   "id": "6ffb00a9",
   "metadata": {},
   "outputs": [],
   "source": [
    "correlation = [0] * 10\n",
    "correlation[0] = np.corrcoef(fact, fact)[0, 1]"
   ]
  },
  {
   "cell_type": "code",
   "execution_count": 381,
   "id": "e9391f72",
   "metadata": {},
   "outputs": [
    {
     "data": {
      "image/png": "[encoded data removed]",
      "text/plain": [
       "<Figure size 640x480 with 1 Axes>"
      ]
     },
     "metadata": {},
     "output_type": "display_data"
    }
   ],
   "source": [
    "order_dict_desc_l2_1 = np.argsort(method_sum_N_l2_1)\n",
    "order_dict_desc_l2_1_verify = np.argsort(mult_N_all_l2_1)\n",
    "order_dict_desc_l2_luis_N = np.argsort(luis_N)\n",
    "order_dict_desc_l2_2 = np.argsort(method_sum_N_l2_2)\n",
    "order_dict_desc_l2_2_verify = np.argsort(mult_N_all_l2_2)\n",
    "order_dict_desc_l2_luis_N2 = np.argsort(luis_N2)\n",
    "\n",
    "for i in range(7): \n",
    "    arr[0][i] = 8 - order_dict_desc_l2_1[i]\n",
    "    arr[1][i] = 8 - order_dict_desc_l2_1_verify[i]\n",
    "    arr[2][i] = 8 - order_dict_desc_l2_luis_N[i]\n",
    "    arr[3][i] = (arr[0][i] + arr[1][i] + arr[2][i]) / 3\n",
    "    arr[4][i] = 8 - order_dict_desc_l2_2[i]\n",
    "    arr[5][i] = 8 - order_dict_desc_l2_2_verify[i]\n",
    "    arr[6][i] = 8 - order_dict_desc_l2_luis_N2[i]\n",
    "    arr[7][i] = (arr[4][i] + arr[5][i] + arr[6][i]) / 3\n",
    "    arr[8][i] = (arr[3][i] + arr[7][i]) / 2\n",
    "\n",
    "for i in range(1, 10):\n",
    "    correlation[i] = -np.corrcoef(fact, arr[i-1])[0, 1]\n",
    "    \n",
    "plt.bar(range(1, 11), correlation)\n",
    "plt.xlabel('X')\n",
    "plt.ylabel('Корреляция')\n",
    "plt.title('Коэффициент корреляции')\n",
    "plt.xticks(range(1, 11))\n",
    "plt.show()"
   ]
  },
  {
   "cell_type": "code",
   "execution_count": null,
   "id": "e33a6bf1",
   "metadata": {},
   "outputs": [],
   "source": []
  }
 ],
 "metadata": {
  "kernelspec": {
   "display_name": "Python 3 (ipykernel)",
   "language": "python",
   "name": "python3"
  },
  "language_info": {
   "codemirror_mode": {
    "name": "ipython",
    "version": 3
   },
   "file_extension": ".py",
   "mimetype": "text/x-python",
   "name": "python",
   "nbconvert_exporter": "python",
   "pygments_lexer": "ipython3",
   "version": "3.10.9"
  }
 },
 "nbformat": 4,
 "nbformat_minor": 5
}
