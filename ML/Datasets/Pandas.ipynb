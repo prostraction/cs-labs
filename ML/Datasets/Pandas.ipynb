{
 "cells": [
  {
   "cell_type": "markdown",
   "id": "cc28c320",
   "metadata": {},
   "source": [
    "Лабораторная работа 1. Группа № 4\n",
    "Современные подходы к обработке и хранению больших данных. Формы представления данных, типы и виды данных.\n"
   ]
  },
  {
   "cell_type": "markdown",
   "id": "8d38b1fc",
   "metadata": {},
   "source": [
    "1. CSV: Подсчёт числа выздоровевших в каждой стране за февраль. Вывод в формате «страна-число»."
   ]
  },
  {
   "cell_type": "code",
   "execution_count": 29,
   "id": "0214e792",
   "metadata": {},
   "outputs": [
    {
     "data": {
      "text/plain": [
       "Country/Region\n",
       "Afghanistan              0.0\n",
       "Algeria                  0.0\n",
       "Australia                9.0\n",
       "Austria                  0.0\n",
       "Bahrain                  0.0\n",
       "                        ... \n",
       "Thailand                23.0\n",
       "UK                       8.0\n",
       "US                       7.0\n",
       "United Arab Emirates     5.0\n",
       "Vietnam                 16.0\n",
       "Name: Recovered, Length: 63, dtype: float64"
      ]
     },
     "execution_count": 29,
     "metadata": {},
     "output_type": "execute_result"
    }
   ],
   "source": [
    "import pandas as pd\n",
    "import sqlite3\n",
    "\n",
    "covid_data = pd.read_csv(\"covid_19_data.csv\")\n",
    "covid_data_feb = covid_data.loc[covid_data.ObservationDate=='02/29/2020', ['Country/Region', 'Recovered']]\n",
    "covid_data_jan = covid_data.loc[covid_data.ObservationDate=='01/31/2020', ['Country/Region', 'Recovered']]\n",
    "\n",
    "res = covid_data_feb.groupby('Country/Region').Recovered.sum() - covid_data_jan.groupby('Country/Region').Recovered.sum()\n",
    "res.fillna(0) #res.dropna()"
   ]
  },
  {
   "cell_type": "markdown",
   "id": "8c45c795",
   "metadata": {},
   "source": [
    "С сортировкой по количеству:"
   ]
  },
  {
   "cell_type": "code",
   "execution_count": 30,
   "id": "c3e0805a",
   "metadata": {},
   "outputs": [
    {
     "name": "stdout",
     "output_type": "stream",
     "text": [
      "Country/Region\n",
      "Mainland China          39065.0\n",
      "Singapore                  72.0\n",
      "Italy                      46.0\n",
      "Hong Kong                  33.0\n",
      "Japan                      31.0\n",
      "South Korea                27.0\n",
      "Thailand                   23.0\n",
      "Malaysia                   18.0\n",
      "Vietnam                    16.0\n",
      "Germany                    16.0\n",
      "France                     12.0\n",
      "Taiwan                      9.0\n",
      "Australia                   9.0\n",
      "Macau                       8.0\n",
      "UK                          8.0\n",
      "US                          7.0\n",
      "Canada                      6.0\n",
      "United Arab Emirates        5.0\n",
      "India                       3.0\n",
      "Russia                      2.0\n",
      "Cambodia                    1.0\n",
      "Philippines                 1.0\n",
      "Sri Lanka                   1.0\n",
      "Finland                     1.0\n",
      "Nepal                       1.0\n",
      "Sweden                      0.0\n",
      "Name: Recovered, dtype: float64\n"
     ]
    }
   ],
   "source": [
    "sorted_res = res.sort_values(ascending=False)\n",
    "print(sorted_res.dropna())"
   ]
  },
  {
   "cell_type": "markdown",
   "id": "17968569",
   "metadata": {},
   "source": [
    "Наибольшое количество выздоровевших приходится на Китай, что очевидно, так как пандемия началась там."
   ]
  },
  {
   "cell_type": "markdown",
   "id": "7334623e",
   "metadata": {},
   "source": [
    "2. SQLite: Показать уровень продаж за ноябрь, число проданных билетов и среднюю цену за билет"
   ]
  },
  {
   "cell_type": "code",
   "execution_count": 31,
   "id": "e7c6a38c",
   "metadata": {},
   "outputs": [
    {
     "data": {
      "text/html": [
       "<div>\n",
       "<style scoped>\n",
       "    .dataframe tbody tr th:only-of-type {\n",
       "        vertical-align: middle;\n",
       "    }\n",
       "\n",
       "    .dataframe tbody tr th {\n",
       "        vertical-align: top;\n",
       "    }\n",
       "\n",
       "    .dataframe thead th {\n",
       "        text-align: right;\n",
       "    }\n",
       "</style>\n",
       "<table border=\"1\" class=\"dataframe\">\n",
       "  <thead>\n",
       "    <tr style=\"text-align: right;\">\n",
       "      <th></th>\n",
       "      <th>m</th>\n",
       "      <th>y</th>\n",
       "      <th>revenue</th>\n",
       "      <th>count</th>\n",
       "      <th>avg_price</th>\n",
       "    </tr>\n",
       "  </thead>\n",
       "  <tbody>\n",
       "    <tr>\n",
       "      <th>0</th>\n",
       "      <td>November</td>\n",
       "      <td>2017</td>\n",
       "      <td>616841237</td>\n",
       "      <td>2672924</td>\n",
       "      <td>230</td>\n",
       "    </tr>\n",
       "    <tr>\n",
       "      <th>1</th>\n",
       "      <td>November</td>\n",
       "      <td>2018</td>\n",
       "      <td>671393703</td>\n",
       "      <td>2850397</td>\n",
       "      <td>235</td>\n",
       "    </tr>\n",
       "    <tr>\n",
       "      <th>2</th>\n",
       "      <td>November</td>\n",
       "      <td>2019</td>\n",
       "      <td>646863217</td>\n",
       "      <td>2756609</td>\n",
       "      <td>234</td>\n",
       "    </tr>\n",
       "  </tbody>\n",
       "</table>\n",
       "</div>"
      ],
      "text/plain": [
       "          m     y    revenue    count  avg_price\n",
       "0  November  2017  616841237  2672924        230\n",
       "1  November  2018  671393703  2850397        235\n",
       "2  November  2019  646863217  2756609        234"
      ]
     },
     "execution_count": 31,
     "metadata": {},
     "output_type": "execute_result"
    }
   ],
   "source": [
    "import sqlite3\n",
    "import pandas as pd\n",
    "\n",
    "con = sqlite3.connect(\"movies.sqlite\")\n",
    "cur = con.cursor()\n",
    "\n",
    "df = pd.read_sql('''\n",
    "                       SELECT case strftime('%m', date) when '11' then 'November' else '' end m, \n",
    "                           strftime('%Y', date) y, \n",
    "                           sum(revenue) revenue, \n",
    "                           sum(tickets) as count, \n",
    "                           sum(revenue)/sum(tickets) avg_price\n",
    "                       FROM weekly_box_office\n",
    "                       WHERE strftime(\"%m\", date) = \"11\"\n",
    "                       GROUP BY m, y;\n",
    "                        ''', con)\n",
    "\n",
    "df"
   ]
  },
  {
   "cell_type": "markdown",
   "id": "5a0f1915",
   "metadata": {},
   "source": [
    "или, без использования агрегатных функций SQL:"
   ]
  },
  {
   "cell_type": "code",
   "execution_count": 32,
   "id": "420254a3",
   "metadata": {},
   "outputs": [
    {
     "name": "stdout",
     "output_type": "stream",
     "text": [
      "2017 revenue:  616841237  tickets:  2672924  avg:  230.77395279476707\n",
      "2018 revenue:  671393703  tickets:  2850397  avg:  235.54392703893527\n",
      "2019 revenue:  646863217  tickets:  2756609  avg:  234.65903833296633\n"
     ]
    }
   ],
   "source": [
    "con = sqlite3.connect(\"movies.sqlite\")\n",
    "movies = pd.read_sql_query(\"SELECT * from weekly_box_office\", con)\n",
    "movies['date'] = pd.to_datetime(movies['date'])\n",
    "movies_nov = movies.loc[movies['date'].dt.month == 11, ['date', 'revenue', 'tickets']]\n",
    "revenue = movies_nov.groupby(movies_nov.date.dt.year)['revenue'].sum()\n",
    "tickets = movies_nov.groupby(movies_nov.date.dt.year)['tickets'].sum()\n",
    "revenue\n",
    "for i in range (2017, 2020):\n",
    "    print(i, 'revenue: ', revenue[i], ' tickets: ', tickets[i],  ' avg: ', revenue[i]/tickets[i])"
   ]
  },
  {
   "cell_type": "markdown",
   "id": "1ff9b6a2",
   "metadata": {},
   "source": [
    "Из данной статистики следует, что наибольшее прибыльным годом был 2018 (большая выручка, количество проданных билетов, наибольшая цена билета), следом по прибыльности идет 2019 год, менее прибыльным, из приведенных годов, является 2017 год, уступая 2018 году на 177 тыс. проданных билетов."
   ]
  },
  {
   "cell_type": "markdown",
   "id": "b7102287",
   "metadata": {},
   "source": [
    "3. JSON: Показать уровень фертильности стран, названия которых начинаются на “I”"
   ]
  },
  {
   "cell_type": "code",
   "execution_count": 33,
   "id": "18e77596",
   "metadata": {},
   "outputs": [
    {
     "name": "stdout",
     "output_type": "stream",
     "text": [
      "Год \t Страна \t Фертильность \t Отклонение\n",
      "2000 \t Iceland    \t 2.08\n",
      "2001 \t Iceland    \t 1.95 \t\t ( -0.13 )\n",
      "2002 \t Iceland    \t 1.93 \t\t ( -0.02 )\n",
      "2003 \t Iceland    \t 1.99 \t\t ( 0.06 )\n",
      "2004 \t Iceland    \t 2.04 \t\t ( 0.05 )\n",
      "2005 \t Iceland    \t 2.05 \t\t ( 0.01 )\n",
      "2006 \t Iceland    \t 2.08 \t\t ( 0.03 )\n",
      "2007 \t Iceland    \t 2.09 \t\t ( 0.01 )\n",
      "2008 \t Iceland    \t 2.15 \t\t ( 0.06 )\n",
      "2009 \t Iceland    \t 2.23 \t\t ( 0.08 )\n",
      "2010 \t Iceland    \t 2.20 \t\t ( -0.03 )\n",
      "2011 \t Iceland    \t 2.02 \t\t ( -0.18 )\n",
      "2012 \t Iceland    \t 2.04 \t\t ( 0.02 )\n",
      "2013 \t Iceland    \t 1.93 \t\t ( -0.11 )\n",
      "2014 \t Iceland    \t 1.93 \t\t ( 0.00 )\n",
      "\n",
      "Год \t Страна \t Фертильность \t Отклонение\n",
      "2000 \t Ireland    \t 1.89\n",
      "2001 \t Ireland    \t 1.94 \t\t ( 0.05 )\n",
      "2002 \t Ireland    \t 1.97 \t\t ( 0.03 )\n",
      "2003 \t Ireland    \t 1.96 \t\t ( -0.01 )\n",
      "2004 \t Ireland    \t 1.93 \t\t ( -0.03 )\n",
      "2005 \t Ireland    \t 1.86 \t\t ( -0.07 )\n",
      "2006 \t Ireland    \t 1.91 \t\t ( 0.05 )\n",
      "2007 \t Ireland    \t 2.01 \t\t ( 0.10 )\n",
      "2008 \t Ireland    \t 2.06 \t\t ( 0.05 )\n",
      "2009 \t Ireland    \t 2.06 \t\t ( 0.00 )\n",
      "2010 \t Ireland    \t 2.05 \t\t ( -0.01 )\n",
      "2011 \t Ireland    \t 2.03 \t\t ( -0.02 )\n",
      "2012 \t Ireland    \t 2.01 \t\t ( -0.02 )\n",
      "2013 \t Ireland    \t 1.96 \t\t ( -0.05 )\n",
      "2014 \t Ireland    \t 1.94 \t\t ( -0.02 )\n",
      "\n",
      "Год \t Страна \t Фертильность \t Отклонение\n",
      "2000 \t Israel     \t 2.95\n",
      "2001 \t Israel     \t 2.89 \t\t ( -0.06 )\n",
      "2002 \t Israel     \t 2.89 \t\t ( 0.00 )\n",
      "2003 \t Israel     \t 2.95 \t\t ( 0.06 )\n",
      "2004 \t Israel     \t 2.92 \t\t ( -0.03 )\n",
      "2005 \t Israel     \t 2.84 \t\t ( -0.08 )\n",
      "2006 \t Israel     \t 2.88 \t\t ( 0.04 )\n",
      "2007 \t Israel     \t 2.90 \t\t ( 0.02 )\n",
      "2008 \t Israel     \t 2.96 \t\t ( 0.06 )\n",
      "2009 \t Israel     \t 2.96 \t\t ( 0.00 )\n",
      "2010 \t Israel     \t 3.04 \t\t ( 0.08 )\n",
      "2011 \t Israel     \t 2.98 \t\t ( -0.06 )\n",
      "2012 \t Israel     \t 3.05 \t\t ( 0.07 )\n",
      "2013 \t Israel     \t 3.03 \t\t ( -0.02 )\n",
      "2014 \t Israel     \t 3.08 \t\t ( 0.05 )\n",
      "\n",
      "Год \t Страна \t Фертильность \t Отклонение\n",
      "2000 \t Italy      \t 1.26\n",
      "2001 \t Italy      \t 1.25 \t\t ( -0.01 )\n",
      "2002 \t Italy      \t 1.27 \t\t ( 0.02 )\n",
      "2003 \t Italy      \t 1.29 \t\t ( 0.02 )\n",
      "2004 \t Italy      \t 1.34 \t\t ( 0.05 )\n",
      "2005 \t Italy      \t 1.34 \t\t ( 0.00 )\n",
      "2006 \t Italy      \t 1.37 \t\t ( 0.03 )\n",
      "2007 \t Italy      \t 1.40 \t\t ( 0.03 )\n",
      "2008 \t Italy      \t 1.45 \t\t ( 0.05 )\n",
      "2009 \t Italy      \t 1.45 \t\t ( 0.00 )\n",
      "2010 \t Italy      \t 1.46 \t\t ( 0.01 )\n",
      "2011 \t Italy      \t 1.44 \t\t ( -0.02 )\n",
      "2012 \t Italy      \t 1.43 \t\t ( -0.01 )\n",
      "2013 \t Italy      \t 1.39 \t\t ( -0.04 )\n",
      "2014 \t Italy      \t 1.37 \t\t ( -0.02 )\n",
      "\n"
     ]
    }
   ],
   "source": [
    "import pandas as pd\n",
    "\n",
    "df = pd.read_json('unece.json')\n",
    "filtered_df = df[(df['Country'].str.startswith('I'))].copy()\n",
    "filtered_df['Prev Total fertility rate'] = filtered_df['Total fertility rate'].shift(1)\n",
    "\n",
    "for country in filtered_df['Country'].unique():\n",
    "    print(\"Год \\t Страна \\t Фертильность \\t Отклонение\")\n",
    "    for index, row in filtered_df[filtered_df['Country'] == country].iterrows():\n",
    "        diff = row['Total fertility rate'] - row['Prev Total fertility rate']\n",
    "\n",
    "        if not pd.isna(row['Total fertility rate']):\n",
    "            if pd.isna(diff):\n",
    "                print(f'{row[\"Year\"]:4}', \"\\t\", f'{row[\"Country\"]:10}', \"\\t\", f\"{row['Total fertility rate']:.2f}\")\n",
    "            else:\n",
    "                print(f'{row[\"Year\"]:4}', \"\\t\", f'{row[\"Country\"]:10}', \"\\t\", f\"{row['Total fertility rate']:.2f}\", \"\\t\\t\", \"(\", f\"{diff:.2f}\", \")\")\n",
    "    print(\"\")\n"
   ]
  },
  {
   "cell_type": "markdown",
   "id": "70f63eec",
   "metadata": {},
   "source": [
    "В наблюденной статистике наблюдается:\n",
    "1. Iceland. Резкое падение фертильности в 2001, 2011 и 2013 годах. Рост фертильности в 2003, 2004, 2008 и 2009 годах. Рост фертильности идет по 2 года. Если в 2009 году фертильность была максимальной, то после него идет стабильное падение фертильности (в 2014 году фертильность меньше, чем в 2000).\n",
    "2. Ireland. Схожая ситуация с Iceland, также максимальная фертильность в 2009 года с последующем падением фертильности. Упад фертильности не такой резкий, как в Iceland.\n",
    "3. Israel. Наибольший рост уровня фертильности наблюдается в 2010 году (с последующем падением в 2011 г.). На временном интервале отмечается рост уровня фертильности с компенсацией после тех годов, где рост уровня фертильности был большим. В 2014 году наблюдается наибольший уровень фертильности.\n",
    "4. Italy. Отмечается стабильный рост уровня фертильности с 2002 года по 2010 год, после чего следует стабильный спад уровня фертильности (2011-2014 г.). Несмотря на это, в 2014 году фертильность превышает уровень фертильности в 2006 году и ранее."
   ]
  }
 ],
 "metadata": {
  "kernelspec": {
   "display_name": "Python 3 (ipykernel)",
   "language": "python",
   "name": "python3"
  },
  "language_info": {
   "codemirror_mode": {
    "name": "ipython",
    "version": 3
   },
   "file_extension": ".py",
   "mimetype": "text/x-python",
   "name": "python",
   "nbconvert_exporter": "python",
   "pygments_lexer": "ipython3",
   "version": "3.10.9"
  }
 },
 "nbformat": 4,
 "nbformat_minor": 5
}
